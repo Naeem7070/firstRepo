{
 "cells": [
  {
   "cell_type": "markdown",
   "metadata": {},
   "source": [
    "# Title \"Naeem's Repo\"\n",
    "Name = \" Naeem Asghar\"\n",
    "\n",
    "email = \"naeemasgha7026@gmail.com\"\n",
    "\n",
    "Whatsapp = \"0345_7026439\"\n",
    "\n",
    "\n"
   ]
  }
 ],
 "metadata": {
  "language_info": {
   "name": "python"
  },
  "orig_nbformat": 4
 },
 "nbformat": 4,
 "nbformat_minor": 2
}
